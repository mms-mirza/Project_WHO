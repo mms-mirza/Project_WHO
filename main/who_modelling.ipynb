{
 "cells": [
  {
   "cell_type": "markdown",
   "metadata": {
    "collapsed": false
   },
   "source": [
    "# Project 3.2 - Train, Test, Split & Modelling"
   ]
  },
  {
   "cell_type": "markdown",
   "metadata": {
    "collapsed": false
   },
   "source": [
    "# Train Test & Split time\n",
    "(oh and feature engineering on X_train)"
   ]
  },
  {
   "cell_type": "code",
   "execution_count": 2,
   "metadata": {
    "ExecuteTime": {
     "end_time": "2023-07-10T10:27:32.849006100Z",
     "start_time": "2023-07-10T10:27:32.064681900Z"
    },
    "collapsed": false
   },
   "outputs": [],
   "source": [
    "import numpy as np\n",
    "import pandas as pd\n",
    "import seaborn as sns\n",
    "import matplotlib.pyplot as plt\n",
    "\n",
    "##Train test splitting from sklearn\n",
    "from sklearn.model_selection import train_test_split\n",
    "\n",
    "##Stats model for linreg\n",
    "import statsmodels.api as sm\n",
    "import statsmodels.tools\n",
    "\n",
    "from sklearn.preprocessing import StandardScaler, RobustScaler, MinMaxScaler"
   ]
  },
  {
   "cell_type": "code",
   "execution_count": 3,
   "metadata": {
    "ExecuteTime": {
     "end_time": "2023-07-10T10:27:33.229665500Z",
     "start_time": "2023-07-10T10:27:32.092785Z"
    },
    "collapsed": false
   },
   "outputs": [],
   "source": [
    "df=pd.read_csv(\"Life Expectancy Data Updated.csv\")"
   ]
  },
  {
   "cell_type": "code",
   "execution_count": 13,
   "metadata": {
    "ExecuteTime": {
     "end_time": "2023-07-10T10:29:28.427111700Z",
     "start_time": "2023-07-10T10:29:28.137309800Z"
    },
    "collapsed": false
   },
   "outputs": [
    {
     "data": {
      "text/html": [
       "<div>\n",
       "<style scoped>\n",
       "    .dataframe tbody tr th:only-of-type {\n",
       "        vertical-align: middle;\n",
       "    }\n",
       "\n",
       "    .dataframe tbody tr th {\n",
       "        vertical-align: top;\n",
       "    }\n",
       "\n",
       "    .dataframe thead th {\n",
       "        text-align: right;\n",
       "    }\n",
       "</style>\n",
       "<table border=\"1\" class=\"dataframe\">\n",
       "  <thead>\n",
       "    <tr style=\"text-align: right;\">\n",
       "      <th></th>\n",
       "      <th>Country</th>\n",
       "      <th>Region</th>\n",
       "      <th>Year</th>\n",
       "      <th>Infant_deaths</th>\n",
       "      <th>Under_five_deaths</th>\n",
       "      <th>Adult_mortality</th>\n",
       "      <th>Alcohol_consumption</th>\n",
       "      <th>Hepatitis_B</th>\n",
       "      <th>Measles</th>\n",
       "      <th>BMI</th>\n",
       "      <th>...</th>\n",
       "      <th>Diphtheria</th>\n",
       "      <th>Incidents_HIV</th>\n",
       "      <th>GDP_per_capita</th>\n",
       "      <th>Population_mln</th>\n",
       "      <th>Thinness_ten_nineteen_years</th>\n",
       "      <th>Thinness_five_nine_years</th>\n",
       "      <th>Schooling</th>\n",
       "      <th>Economy_status_Developed</th>\n",
       "      <th>Economy_status_Developing</th>\n",
       "      <th>Life_expectancy</th>\n",
       "    </tr>\n",
       "  </thead>\n",
       "  <tbody>\n",
       "    <tr>\n",
       "      <th>0</th>\n",
       "      <td>Turkiye</td>\n",
       "      <td>Middle East</td>\n",
       "      <td>2015</td>\n",
       "      <td>11.1</td>\n",
       "      <td>13.0</td>\n",
       "      <td>105.8240</td>\n",
       "      <td>1.32</td>\n",
       "      <td>97</td>\n",
       "      <td>65</td>\n",
       "      <td>27.8</td>\n",
       "      <td>...</td>\n",
       "      <td>97</td>\n",
       "      <td>0.08</td>\n",
       "      <td>11006</td>\n",
       "      <td>78.53</td>\n",
       "      <td>4.9</td>\n",
       "      <td>4.8</td>\n",
       "      <td>7.8</td>\n",
       "      <td>0</td>\n",
       "      <td>1</td>\n",
       "      <td>76.5</td>\n",
       "    </tr>\n",
       "    <tr>\n",
       "      <th>1</th>\n",
       "      <td>Spain</td>\n",
       "      <td>European Union</td>\n",
       "      <td>2015</td>\n",
       "      <td>2.7</td>\n",
       "      <td>3.3</td>\n",
       "      <td>57.9025</td>\n",
       "      <td>10.35</td>\n",
       "      <td>97</td>\n",
       "      <td>94</td>\n",
       "      <td>26.0</td>\n",
       "      <td>...</td>\n",
       "      <td>97</td>\n",
       "      <td>0.09</td>\n",
       "      <td>25742</td>\n",
       "      <td>46.44</td>\n",
       "      <td>0.6</td>\n",
       "      <td>0.5</td>\n",
       "      <td>9.7</td>\n",
       "      <td>1</td>\n",
       "      <td>0</td>\n",
       "      <td>82.8</td>\n",
       "    </tr>\n",
       "    <tr>\n",
       "      <th>2</th>\n",
       "      <td>India</td>\n",
       "      <td>Asia</td>\n",
       "      <td>2007</td>\n",
       "      <td>51.5</td>\n",
       "      <td>67.9</td>\n",
       "      <td>201.0765</td>\n",
       "      <td>1.57</td>\n",
       "      <td>60</td>\n",
       "      <td>35</td>\n",
       "      <td>21.2</td>\n",
       "      <td>...</td>\n",
       "      <td>64</td>\n",
       "      <td>0.13</td>\n",
       "      <td>1076</td>\n",
       "      <td>1183.21</td>\n",
       "      <td>27.1</td>\n",
       "      <td>28.0</td>\n",
       "      <td>5.0</td>\n",
       "      <td>0</td>\n",
       "      <td>1</td>\n",
       "      <td>65.4</td>\n",
       "    </tr>\n",
       "    <tr>\n",
       "      <th>3</th>\n",
       "      <td>Guyana</td>\n",
       "      <td>South America</td>\n",
       "      <td>2006</td>\n",
       "      <td>32.8</td>\n",
       "      <td>40.5</td>\n",
       "      <td>222.1965</td>\n",
       "      <td>5.68</td>\n",
       "      <td>93</td>\n",
       "      <td>74</td>\n",
       "      <td>25.3</td>\n",
       "      <td>...</td>\n",
       "      <td>93</td>\n",
       "      <td>0.79</td>\n",
       "      <td>4146</td>\n",
       "      <td>0.75</td>\n",
       "      <td>5.7</td>\n",
       "      <td>5.5</td>\n",
       "      <td>7.9</td>\n",
       "      <td>0</td>\n",
       "      <td>1</td>\n",
       "      <td>67.0</td>\n",
       "    </tr>\n",
       "    <tr>\n",
       "      <th>4</th>\n",
       "      <td>Israel</td>\n",
       "      <td>Middle East</td>\n",
       "      <td>2012</td>\n",
       "      <td>3.4</td>\n",
       "      <td>4.3</td>\n",
       "      <td>57.9510</td>\n",
       "      <td>2.89</td>\n",
       "      <td>97</td>\n",
       "      <td>89</td>\n",
       "      <td>27.0</td>\n",
       "      <td>...</td>\n",
       "      <td>94</td>\n",
       "      <td>0.08</td>\n",
       "      <td>33995</td>\n",
       "      <td>7.91</td>\n",
       "      <td>1.2</td>\n",
       "      <td>1.1</td>\n",
       "      <td>12.8</td>\n",
       "      <td>1</td>\n",
       "      <td>0</td>\n",
       "      <td>81.7</td>\n",
       "    </tr>\n",
       "  </tbody>\n",
       "</table>\n",
       "<p>5 rows × 21 columns</p>\n",
       "</div>"
      ],
      "text/plain": [
       "   Country          Region  Year  Infant_deaths  Under_five_deaths  \\\n",
       "0  Turkiye     Middle East  2015           11.1               13.0   \n",
       "1    Spain  European Union  2015            2.7                3.3   \n",
       "2    India            Asia  2007           51.5               67.9   \n",
       "3   Guyana   South America  2006           32.8               40.5   \n",
       "4   Israel     Middle East  2012            3.4                4.3   \n",
       "\n",
       "   Adult_mortality  Alcohol_consumption  Hepatitis_B  Measles   BMI  ...  \\\n",
       "0         105.8240                 1.32           97       65  27.8  ...   \n",
       "1          57.9025                10.35           97       94  26.0  ...   \n",
       "2         201.0765                 1.57           60       35  21.2  ...   \n",
       "3         222.1965                 5.68           93       74  25.3  ...   \n",
       "4          57.9510                 2.89           97       89  27.0  ...   \n",
       "\n",
       "   Diphtheria  Incidents_HIV  GDP_per_capita  Population_mln  \\\n",
       "0          97           0.08           11006           78.53   \n",
       "1          97           0.09           25742           46.44   \n",
       "2          64           0.13            1076         1183.21   \n",
       "3          93           0.79            4146            0.75   \n",
       "4          94           0.08           33995            7.91   \n",
       "\n",
       "   Thinness_ten_nineteen_years  Thinness_five_nine_years  Schooling  \\\n",
       "0                          4.9                       4.8        7.8   \n",
       "1                          0.6                       0.5        9.7   \n",
       "2                         27.1                      28.0        5.0   \n",
       "3                          5.7                       5.5        7.9   \n",
       "4                          1.2                       1.1       12.8   \n",
       "\n",
       "   Economy_status_Developed  Economy_status_Developing  Life_expectancy  \n",
       "0                         0                          1             76.5  \n",
       "1                         1                          0             82.8  \n",
       "2                         0                          1             65.4  \n",
       "3                         0                          1             67.0  \n",
       "4                         1                          0             81.7  \n",
       "\n",
       "[5 rows x 21 columns]"
      ]
     },
     "execution_count": 13,
     "metadata": {},
     "output_type": "execute_result"
    }
   ],
   "source": [
    "df.head()"
   ]
  },
  {
   "cell_type": "markdown",
   "metadata": {
    "collapsed": false
   },
   "source": []
  },
  {
   "cell_type": "markdown",
   "metadata": {
    "collapsed": false
   },
   "source": [
    "## Split"
   ]
  },
  {
   "cell_type": "code",
   "execution_count": 5,
   "metadata": {
    "ExecuteTime": {
     "end_time": "2023-07-10T10:27:44.482827900Z",
     "start_time": "2023-07-10T10:27:44.226135700Z"
    },
    "collapsed": true
   },
   "outputs": [],
   "source": [
    "## Remove y from list\n",
    "feature_cols = list(df.columns)\n",
    "feature_cols.remove('Life_expectancy')"
   ]
  },
  {
   "cell_type": "code",
   "execution_count": 7,
   "metadata": {
    "ExecuteTime": {
     "end_time": "2023-07-10T10:28:18.877919300Z",
     "start_time": "2023-07-10T10:28:18.580989100Z"
    },
    "collapsed": false
   },
   "outputs": [],
   "source": [
    "# Create X, and y.\n",
    "\n",
    "X = df[feature_cols]  ## independant variable or feature\n",
    "y = df['Life_expectancy'] ## dependant variable or target"
   ]
  },
  {
   "cell_type": "code",
   "execution_count": 8,
   "metadata": {
    "ExecuteTime": {
     "end_time": "2023-07-10T10:28:23.591300700Z",
     "start_time": "2023-07-10T10:28:23.434062Z"
    },
    "collapsed": false
   },
   "outputs": [],
   "source": [
    "X_train, X_test, y_train, y_test = train_test_split(X, y, test_size = 0.2, random_state = 22) ## random state 22"
   ]
  },
  {
   "cell_type": "markdown",
   "metadata": {
    "collapsed": false
   },
   "source": []
  },
  {
   "cell_type": "code",
   "execution_count": 9,
   "metadata": {
    "ExecuteTime": {
     "end_time": "2023-07-10T10:28:26.375359Z",
     "start_time": "2023-07-10T10:28:26.203816800Z"
    },
    "collapsed": false
   },
   "outputs": [
    {
     "data": {
      "text/plain": [
       "2291"
      ]
     },
     "execution_count": 9,
     "metadata": {},
     "output_type": "execute_result"
    }
   ],
   "source": [
    "(X_train.index==y_train.index).sum() ## Checking X & y trains are the same row count"
   ]
  },
  {
   "cell_type": "code",
   "execution_count": 10,
   "metadata": {
    "ExecuteTime": {
     "end_time": "2023-07-10T10:28:28.430558600Z",
     "start_time": "2023-07-10T10:28:28.216876300Z"
    },
    "collapsed": false
   },
   "outputs": [
    {
     "data": {
      "text/plain": [
       "2291"
      ]
     },
     "execution_count": 10,
     "metadata": {},
     "output_type": "execute_result"
    }
   ],
   "source": [
    "X_train.shape[0]  ## Every single index between X_train and y_train AND THE ORDER OF THEM"
   ]
  },
  {
   "cell_type": "markdown",
   "metadata": {
    "collapsed": false
   },
   "source": []
  },
  {
   "cell_type": "markdown",
   "metadata": {
    "collapsed": false
   },
   "source": []
  },
  {
   "cell_type": "markdown",
   "metadata": {
    "collapsed": false
   },
   "source": [
    "# Feature Engineering"
   ]
  },
  {
   "cell_type": "code",
   "execution_count": 14,
   "metadata": {
    "ExecuteTime": {
     "end_time": "2023-07-10T10:29:37.253155400Z",
     "start_time": "2023-07-10T10:29:37.202165500Z"
    },
    "collapsed": false
   },
   "outputs": [],
   "source": [
    "def feature_eng(df):\n",
    "    df = df.copy()\n",
    "\n",
    "    '''one hot encoding for Region'''\n",
    "    df = pd.get_dummies(df, columns = ['Region'], drop_first=True, prefix = 'Region')\n",
    "\n",
    "    '''Drop Country'''\n",
    "    df=df.drop(columns=['Country'])\n",
    "\n",
    "    '''adding the constant for the intercept'''\n",
    "    df = sm.add_constant(df)\n",
    "\n",
    "    return df"
   ]
  },
  {
   "cell_type": "code",
   "execution_count": 15,
   "metadata": {
    "ExecuteTime": {
     "end_time": "2023-07-10T10:29:39.674944200Z",
     "start_time": "2023-07-10T10:29:39.467528800Z"
    },
    "collapsed": false
   },
   "outputs": [],
   "source": [
    "X_train_fe = feature_eng(X_train)"
   ]
  },
  {
   "cell_type": "code",
   "execution_count": 16,
   "metadata": {
    "ExecuteTime": {
     "end_time": "2023-07-10T10:29:42.037421600Z",
     "start_time": "2023-07-10T10:29:41.807246500Z"
    },
    "collapsed": false
   },
   "outputs": [
    {
     "data": {
      "text/html": [
       "<div>\n",
       "<style scoped>\n",
       "    .dataframe tbody tr th:only-of-type {\n",
       "        vertical-align: middle;\n",
       "    }\n",
       "\n",
       "    .dataframe tbody tr th {\n",
       "        vertical-align: top;\n",
       "    }\n",
       "\n",
       "    .dataframe thead th {\n",
       "        text-align: right;\n",
       "    }\n",
       "</style>\n",
       "<table border=\"1\" class=\"dataframe\">\n",
       "  <thead>\n",
       "    <tr style=\"text-align: right;\">\n",
       "      <th></th>\n",
       "      <th>const</th>\n",
       "      <th>Year</th>\n",
       "      <th>Infant_deaths</th>\n",
       "      <th>Under_five_deaths</th>\n",
       "      <th>Adult_mortality</th>\n",
       "      <th>Alcohol_consumption</th>\n",
       "      <th>Hepatitis_B</th>\n",
       "      <th>Measles</th>\n",
       "      <th>BMI</th>\n",
       "      <th>Polio</th>\n",
       "      <th>...</th>\n",
       "      <th>Economy_status_Developed</th>\n",
       "      <th>Economy_status_Developing</th>\n",
       "      <th>Region_Asia</th>\n",
       "      <th>Region_Central America and Caribbean</th>\n",
       "      <th>Region_European Union</th>\n",
       "      <th>Region_Middle East</th>\n",
       "      <th>Region_North America</th>\n",
       "      <th>Region_Oceania</th>\n",
       "      <th>Region_Rest of Europe</th>\n",
       "      <th>Region_South America</th>\n",
       "    </tr>\n",
       "  </thead>\n",
       "  <tbody>\n",
       "    <tr>\n",
       "      <th>2453</th>\n",
       "      <td>1.0</td>\n",
       "      <td>2003</td>\n",
       "      <td>13.4</td>\n",
       "      <td>15.6</td>\n",
       "      <td>153.4715</td>\n",
       "      <td>1.79</td>\n",
       "      <td>85</td>\n",
       "      <td>96</td>\n",
       "      <td>31.4</td>\n",
       "      <td>98</td>\n",
       "      <td>...</td>\n",
       "      <td>0</td>\n",
       "      <td>1</td>\n",
       "      <td>0</td>\n",
       "      <td>0</td>\n",
       "      <td>0</td>\n",
       "      <td>0</td>\n",
       "      <td>0</td>\n",
       "      <td>1</td>\n",
       "      <td>0</td>\n",
       "      <td>0</td>\n",
       "    </tr>\n",
       "    <tr>\n",
       "      <th>75</th>\n",
       "      <td>1.0</td>\n",
       "      <td>2014</td>\n",
       "      <td>3.1</td>\n",
       "      <td>4.1</td>\n",
       "      <td>74.8905</td>\n",
       "      <td>12.07</td>\n",
       "      <td>83</td>\n",
       "      <td>77</td>\n",
       "      <td>25.0</td>\n",
       "      <td>98</td>\n",
       "      <td>...</td>\n",
       "      <td>1</td>\n",
       "      <td>0</td>\n",
       "      <td>0</td>\n",
       "      <td>0</td>\n",
       "      <td>1</td>\n",
       "      <td>0</td>\n",
       "      <td>0</td>\n",
       "      <td>0</td>\n",
       "      <td>0</td>\n",
       "      <td>0</td>\n",
       "    </tr>\n",
       "    <tr>\n",
       "      <th>1736</th>\n",
       "      <td>1.0</td>\n",
       "      <td>2011</td>\n",
       "      <td>24.5</td>\n",
       "      <td>29.3</td>\n",
       "      <td>141.3175</td>\n",
       "      <td>1.82</td>\n",
       "      <td>63</td>\n",
       "      <td>65</td>\n",
       "      <td>26.0</td>\n",
       "      <td>75</td>\n",
       "      <td>...</td>\n",
       "      <td>0</td>\n",
       "      <td>1</td>\n",
       "      <td>0</td>\n",
       "      <td>0</td>\n",
       "      <td>0</td>\n",
       "      <td>0</td>\n",
       "      <td>0</td>\n",
       "      <td>1</td>\n",
       "      <td>0</td>\n",
       "      <td>0</td>\n",
       "    </tr>\n",
       "    <tr>\n",
       "      <th>1925</th>\n",
       "      <td>1.0</td>\n",
       "      <td>2012</td>\n",
       "      <td>35.6</td>\n",
       "      <td>44.4</td>\n",
       "      <td>137.2305</td>\n",
       "      <td>0.00</td>\n",
       "      <td>94</td>\n",
       "      <td>41</td>\n",
       "      <td>21.3</td>\n",
       "      <td>94</td>\n",
       "      <td>...</td>\n",
       "      <td>0</td>\n",
       "      <td>1</td>\n",
       "      <td>1</td>\n",
       "      <td>0</td>\n",
       "      <td>0</td>\n",
       "      <td>0</td>\n",
       "      <td>0</td>\n",
       "      <td>0</td>\n",
       "      <td>0</td>\n",
       "      <td>0</td>\n",
       "    </tr>\n",
       "    <tr>\n",
       "      <th>120</th>\n",
       "      <td>1.0</td>\n",
       "      <td>2014</td>\n",
       "      <td>46.0</td>\n",
       "      <td>68.3</td>\n",
       "      <td>309.5495</td>\n",
       "      <td>4.22</td>\n",
       "      <td>86</td>\n",
       "      <td>33</td>\n",
       "      <td>22.4</td>\n",
       "      <td>78</td>\n",
       "      <td>...</td>\n",
       "      <td>0</td>\n",
       "      <td>1</td>\n",
       "      <td>0</td>\n",
       "      <td>0</td>\n",
       "      <td>0</td>\n",
       "      <td>0</td>\n",
       "      <td>0</td>\n",
       "      <td>0</td>\n",
       "      <td>0</td>\n",
       "      <td>0</td>\n",
       "    </tr>\n",
       "    <tr>\n",
       "      <th>2783</th>\n",
       "      <td>1.0</td>\n",
       "      <td>2007</td>\n",
       "      <td>52.0</td>\n",
       "      <td>77.9</td>\n",
       "      <td>258.5945</td>\n",
       "      <td>0.64</td>\n",
       "      <td>84</td>\n",
       "      <td>64</td>\n",
       "      <td>20.9</td>\n",
       "      <td>83</td>\n",
       "      <td>...</td>\n",
       "      <td>0</td>\n",
       "      <td>1</td>\n",
       "      <td>0</td>\n",
       "      <td>0</td>\n",
       "      <td>0</td>\n",
       "      <td>0</td>\n",
       "      <td>0</td>\n",
       "      <td>0</td>\n",
       "      <td>0</td>\n",
       "      <td>0</td>\n",
       "    </tr>\n",
       "    <tr>\n",
       "      <th>1186</th>\n",
       "      <td>1.0</td>\n",
       "      <td>2007</td>\n",
       "      <td>43.0</td>\n",
       "      <td>61.9</td>\n",
       "      <td>312.3995</td>\n",
       "      <td>1.75</td>\n",
       "      <td>91</td>\n",
       "      <td>88</td>\n",
       "      <td>20.4</td>\n",
       "      <td>95</td>\n",
       "      <td>...</td>\n",
       "      <td>0</td>\n",
       "      <td>1</td>\n",
       "      <td>0</td>\n",
       "      <td>0</td>\n",
       "      <td>0</td>\n",
       "      <td>0</td>\n",
       "      <td>0</td>\n",
       "      <td>0</td>\n",
       "      <td>0</td>\n",
       "      <td>0</td>\n",
       "    </tr>\n",
       "    <tr>\n",
       "      <th>2186</th>\n",
       "      <td>1.0</td>\n",
       "      <td>2013</td>\n",
       "      <td>8.2</td>\n",
       "      <td>9.6</td>\n",
       "      <td>88.8035</td>\n",
       "      <td>3.02</td>\n",
       "      <td>94</td>\n",
       "      <td>92</td>\n",
       "      <td>27.1</td>\n",
       "      <td>95</td>\n",
       "      <td>...</td>\n",
       "      <td>0</td>\n",
       "      <td>1</td>\n",
       "      <td>0</td>\n",
       "      <td>1</td>\n",
       "      <td>0</td>\n",
       "      <td>0</td>\n",
       "      <td>0</td>\n",
       "      <td>0</td>\n",
       "      <td>0</td>\n",
       "      <td>0</td>\n",
       "    </tr>\n",
       "    <tr>\n",
       "      <th>2809</th>\n",
       "      <td>1.0</td>\n",
       "      <td>2011</td>\n",
       "      <td>69.9</td>\n",
       "      <td>96.7</td>\n",
       "      <td>262.7215</td>\n",
       "      <td>3.73</td>\n",
       "      <td>77</td>\n",
       "      <td>64</td>\n",
       "      <td>23.9</td>\n",
       "      <td>77</td>\n",
       "      <td>...</td>\n",
       "      <td>0</td>\n",
       "      <td>1</td>\n",
       "      <td>0</td>\n",
       "      <td>0</td>\n",
       "      <td>0</td>\n",
       "      <td>0</td>\n",
       "      <td>0</td>\n",
       "      <td>0</td>\n",
       "      <td>0</td>\n",
       "      <td>0</td>\n",
       "    </tr>\n",
       "    <tr>\n",
       "      <th>1332</th>\n",
       "      <td>1.0</td>\n",
       "      <td>2000</td>\n",
       "      <td>43.9</td>\n",
       "      <td>52.3</td>\n",
       "      <td>152.9405</td>\n",
       "      <td>0.45</td>\n",
       "      <td>43</td>\n",
       "      <td>92</td>\n",
       "      <td>24.6</td>\n",
       "      <td>95</td>\n",
       "      <td>...</td>\n",
       "      <td>0</td>\n",
       "      <td>1</td>\n",
       "      <td>0</td>\n",
       "      <td>0</td>\n",
       "      <td>0</td>\n",
       "      <td>0</td>\n",
       "      <td>0</td>\n",
       "      <td>0</td>\n",
       "      <td>0</td>\n",
       "      <td>0</td>\n",
       "    </tr>\n",
       "  </tbody>\n",
       "</table>\n",
       "<p>10 rows × 27 columns</p>\n",
       "</div>"
      ],
      "text/plain": [
       "      const  Year  Infant_deaths  Under_five_deaths  Adult_mortality  \\\n",
       "2453    1.0  2003           13.4               15.6         153.4715   \n",
       "75      1.0  2014            3.1                4.1          74.8905   \n",
       "1736    1.0  2011           24.5               29.3         141.3175   \n",
       "1925    1.0  2012           35.6               44.4         137.2305   \n",
       "120     1.0  2014           46.0               68.3         309.5495   \n",
       "2783    1.0  2007           52.0               77.9         258.5945   \n",
       "1186    1.0  2007           43.0               61.9         312.3995   \n",
       "2186    1.0  2013            8.2                9.6          88.8035   \n",
       "2809    1.0  2011           69.9               96.7         262.7215   \n",
       "1332    1.0  2000           43.9               52.3         152.9405   \n",
       "\n",
       "      Alcohol_consumption  Hepatitis_B  Measles   BMI  Polio  ...  \\\n",
       "2453                 1.79           85       96  31.4     98  ...   \n",
       "75                  12.07           83       77  25.0     98  ...   \n",
       "1736                 1.82           63       65  26.0     75  ...   \n",
       "1925                 0.00           94       41  21.3     94  ...   \n",
       "120                  4.22           86       33  22.4     78  ...   \n",
       "2783                 0.64           84       64  20.9     83  ...   \n",
       "1186                 1.75           91       88  20.4     95  ...   \n",
       "2186                 3.02           94       92  27.1     95  ...   \n",
       "2809                 3.73           77       64  23.9     77  ...   \n",
       "1332                 0.45           43       92  24.6     95  ...   \n",
       "\n",
       "      Economy_status_Developed  Economy_status_Developing  Region_Asia  \\\n",
       "2453                         0                          1            0   \n",
       "75                           1                          0            0   \n",
       "1736                         0                          1            0   \n",
       "1925                         0                          1            1   \n",
       "120                          0                          1            0   \n",
       "2783                         0                          1            0   \n",
       "1186                         0                          1            0   \n",
       "2186                         0                          1            0   \n",
       "2809                         0                          1            0   \n",
       "1332                         0                          1            0   \n",
       "\n",
       "      Region_Central America and Caribbean  Region_European Union  \\\n",
       "2453                                     0                      0   \n",
       "75                                       0                      1   \n",
       "1736                                     0                      0   \n",
       "1925                                     0                      0   \n",
       "120                                      0                      0   \n",
       "2783                                     0                      0   \n",
       "1186                                     0                      0   \n",
       "2186                                     1                      0   \n",
       "2809                                     0                      0   \n",
       "1332                                     0                      0   \n",
       "\n",
       "      Region_Middle East  Region_North America  Region_Oceania  \\\n",
       "2453                   0                     0               1   \n",
       "75                     0                     0               0   \n",
       "1736                   0                     0               1   \n",
       "1925                   0                     0               0   \n",
       "120                    0                     0               0   \n",
       "2783                   0                     0               0   \n",
       "1186                   0                     0               0   \n",
       "2186                   0                     0               0   \n",
       "2809                   0                     0               0   \n",
       "1332                   0                     0               0   \n",
       "\n",
       "      Region_Rest of Europe  Region_South America  \n",
       "2453                      0                     0  \n",
       "75                        0                     0  \n",
       "1736                      0                     0  \n",
       "1925                      0                     0  \n",
       "120                       0                     0  \n",
       "2783                      0                     0  \n",
       "1186                      0                     0  \n",
       "2186                      0                     0  \n",
       "2809                      0                     0  \n",
       "1332                      0                     0  \n",
       "\n",
       "[10 rows x 27 columns]"
      ]
     },
     "execution_count": 16,
     "metadata": {},
     "output_type": "execute_result"
    }
   ],
   "source": [
    "X_train_fe.head(10)"
   ]
  },
  {
   "cell_type": "code",
   "execution_count": 76,
   "metadata": {
    "ExecuteTime": {
     "end_time": "2023-07-10T11:48:20.011504300Z",
     "start_time": "2023-07-10T11:48:19.906769600Z"
    },
    "collapsed": false
   },
   "outputs": [
    {
     "data": {
      "text/html": [
       "<div>\n",
       "<style scoped>\n",
       "    .dataframe tbody tr th:only-of-type {\n",
       "        vertical-align: middle;\n",
       "    }\n",
       "\n",
       "    .dataframe tbody tr th {\n",
       "        vertical-align: top;\n",
       "    }\n",
       "\n",
       "    .dataframe thead th {\n",
       "        text-align: right;\n",
       "    }\n",
       "</style>\n",
       "<table border=\"1\" class=\"dataframe\">\n",
       "  <thead>\n",
       "    <tr style=\"text-align: right;\">\n",
       "      <th></th>\n",
       "      <th>Country</th>\n",
       "      <th>Region</th>\n",
       "      <th>Year</th>\n",
       "      <th>Infant_deaths</th>\n",
       "      <th>Under_five_deaths</th>\n",
       "      <th>Adult_mortality</th>\n",
       "      <th>Alcohol_consumption</th>\n",
       "      <th>Hepatitis_B</th>\n",
       "      <th>Measles</th>\n",
       "      <th>BMI</th>\n",
       "      <th>Polio</th>\n",
       "      <th>Diphtheria</th>\n",
       "      <th>Incidents_HIV</th>\n",
       "      <th>GDP_per_capita</th>\n",
       "      <th>Population_mln</th>\n",
       "      <th>Thinness_ten_nineteen_years</th>\n",
       "      <th>Thinness_five_nine_years</th>\n",
       "      <th>Schooling</th>\n",
       "      <th>Economy_status_Developed</th>\n",
       "      <th>Economy_status_Developing</th>\n",
       "    </tr>\n",
       "  </thead>\n",
       "  <tbody>\n",
       "    <tr>\n",
       "      <th>1296</th>\n",
       "      <td>Slovak Republic</td>\n",
       "      <td>European Union</td>\n",
       "      <td>2009</td>\n",
       "      <td>5.9</td>\n",
       "      <td>7.2</td>\n",
       "      <td>129.6060</td>\n",
       "      <td>11.13</td>\n",
       "      <td>99</td>\n",
       "      <td>97</td>\n",
       "      <td>26.0</td>\n",
       "      <td>99</td>\n",
       "      <td>99</td>\n",
       "      <td>0.01</td>\n",
       "      <td>13679</td>\n",
       "      <td>5.39</td>\n",
       "      <td>1.3</td>\n",
       "      <td>1.4</td>\n",
       "      <td>11.4</td>\n",
       "      <td>1</td>\n",
       "      <td>0</td>\n",
       "    </tr>\n",
       "    <tr>\n",
       "      <th>2160</th>\n",
       "      <td>Ecuador</td>\n",
       "      <td>South America</td>\n",
       "      <td>2005</td>\n",
       "      <td>19.9</td>\n",
       "      <td>23.5</td>\n",
       "      <td>146.2040</td>\n",
       "      <td>3.90</td>\n",
       "      <td>92</td>\n",
       "      <td>95</td>\n",
       "      <td>25.9</td>\n",
       "      <td>89</td>\n",
       "      <td>92</td>\n",
       "      <td>0.18</td>\n",
       "      <td>4893</td>\n",
       "      <td>13.83</td>\n",
       "      <td>1.4</td>\n",
       "      <td>1.3</td>\n",
       "      <td>7.3</td>\n",
       "      <td>0</td>\n",
       "      <td>1</td>\n",
       "    </tr>\n",
       "    <tr>\n",
       "      <th>2218</th>\n",
       "      <td>Uganda</td>\n",
       "      <td>Africa</td>\n",
       "      <td>2008</td>\n",
       "      <td>54.5</td>\n",
       "      <td>86.8</td>\n",
       "      <td>384.1585</td>\n",
       "      <td>11.37</td>\n",
       "      <td>71</td>\n",
       "      <td>64</td>\n",
       "      <td>21.8</td>\n",
       "      <td>69</td>\n",
       "      <td>71</td>\n",
       "      <td>3.44</td>\n",
       "      <td>725</td>\n",
       "      <td>30.43</td>\n",
       "      <td>6.2</td>\n",
       "      <td>6.2</td>\n",
       "      <td>5.2</td>\n",
       "      <td>0</td>\n",
       "      <td>1</td>\n",
       "    </tr>\n",
       "    <tr>\n",
       "      <th>1534</th>\n",
       "      <td>Fiji</td>\n",
       "      <td>Oceania</td>\n",
       "      <td>2012</td>\n",
       "      <td>20.0</td>\n",
       "      <td>23.5</td>\n",
       "      <td>191.3835</td>\n",
       "      <td>2.43</td>\n",
       "      <td>99</td>\n",
       "      <td>94</td>\n",
       "      <td>27.3</td>\n",
       "      <td>99</td>\n",
       "      <td>99</td>\n",
       "      <td>0.11</td>\n",
       "      <td>4683</td>\n",
       "      <td>0.87</td>\n",
       "      <td>4.0</td>\n",
       "      <td>3.7</td>\n",
       "      <td>10.1</td>\n",
       "      <td>0</td>\n",
       "      <td>1</td>\n",
       "    </tr>\n",
       "    <tr>\n",
       "      <th>1820</th>\n",
       "      <td>Malta</td>\n",
       "      <td>European Union</td>\n",
       "      <td>2012</td>\n",
       "      <td>5.8</td>\n",
       "      <td>6.6</td>\n",
       "      <td>54.2180</td>\n",
       "      <td>7.18</td>\n",
       "      <td>93</td>\n",
       "      <td>91</td>\n",
       "      <td>27.1</td>\n",
       "      <td>99</td>\n",
       "      <td>99</td>\n",
       "      <td>0.08</td>\n",
       "      <td>21222</td>\n",
       "      <td>0.42</td>\n",
       "      <td>0.8</td>\n",
       "      <td>0.7</td>\n",
       "      <td>10.8</td>\n",
       "      <td>1</td>\n",
       "      <td>0</td>\n",
       "    </tr>\n",
       "  </tbody>\n",
       "</table>\n",
       "</div>"
      ],
      "text/plain": [
       "              Country          Region  Year  Infant_deaths  Under_five_deaths  \\\n",
       "1296  Slovak Republic  European Union  2009            5.9                7.2   \n",
       "2160          Ecuador   South America  2005           19.9               23.5   \n",
       "2218           Uganda          Africa  2008           54.5               86.8   \n",
       "1534             Fiji         Oceania  2012           20.0               23.5   \n",
       "1820            Malta  European Union  2012            5.8                6.6   \n",
       "\n",
       "      Adult_mortality  Alcohol_consumption  Hepatitis_B  Measles   BMI  Polio  \\\n",
       "1296         129.6060                11.13           99       97  26.0     99   \n",
       "2160         146.2040                 3.90           92       95  25.9     89   \n",
       "2218         384.1585                11.37           71       64  21.8     69   \n",
       "1534         191.3835                 2.43           99       94  27.3     99   \n",
       "1820          54.2180                 7.18           93       91  27.1     99   \n",
       "\n",
       "      Diphtheria  Incidents_HIV  GDP_per_capita  Population_mln  \\\n",
       "1296          99           0.01           13679            5.39   \n",
       "2160          92           0.18            4893           13.83   \n",
       "2218          71           3.44             725           30.43   \n",
       "1534          99           0.11            4683            0.87   \n",
       "1820          99           0.08           21222            0.42   \n",
       "\n",
       "      Thinness_ten_nineteen_years  Thinness_five_nine_years  Schooling  \\\n",
       "1296                          1.3                       1.4       11.4   \n",
       "2160                          1.4                       1.3        7.3   \n",
       "2218                          6.2                       6.2        5.2   \n",
       "1534                          4.0                       3.7       10.1   \n",
       "1820                          0.8                       0.7       10.8   \n",
       "\n",
       "      Economy_status_Developed  Economy_status_Developing  \n",
       "1296                         1                          0  \n",
       "2160                         0                          1  \n",
       "2218                         0                          1  \n",
       "1534                         0                          1  \n",
       "1820                         1                          0  "
      ]
     },
     "execution_count": 76,
     "metadata": {},
     "output_type": "execute_result"
    }
   ],
   "source": [
    "X_test.head()"
   ]
  },
  {
   "cell_type": "code",
   "execution_count": 100,
   "metadata": {
    "ExecuteTime": {
     "end_time": "2023-07-10T13:33:19.666914Z",
     "start_time": "2023-07-10T13:33:19.564273800Z"
    },
    "collapsed": false
   },
   "outputs": [
    {
     "data": {
      "text/plain": [
       "1296    74.9\n",
       "2160    74.1\n",
       "2218    55.0\n",
       "1534    66.9\n",
       "1820    80.7\n",
       "Name: Life_expectancy, dtype: float64"
      ]
     },
     "execution_count": 100,
     "metadata": {},
     "output_type": "execute_result"
    }
   ],
   "source": [
    "y_test.head()"
   ]
  },
  {
   "cell_type": "markdown",
   "metadata": {
    "collapsed": false
   },
   "source": []
  },
  {
   "cell_type": "markdown",
   "metadata": {
    "collapsed": false
   },
   "source": [
    "# Try"
   ]
  },
  {
   "cell_type": "markdown",
   "metadata": {
    "collapsed": false
   },
   "source": [
    "### First ranking all independants/features by their corrlation to Life Expectancy"
   ]
  },
  {
   "cell_type": "code",
   "execution_count": 60,
   "metadata": {
    "ExecuteTime": {
     "end_time": "2023-07-10T11:31:56.133099200Z",
     "start_time": "2023-07-10T11:31:56.029682200Z"
    },
    "collapsed": false
   },
   "outputs": [
    {
     "data": {
      "text/plain": [
       "Index(['const', 'Year', 'Infant_deaths', 'Under_five_deaths',\n",
       "       'Adult_mortality', 'Alcohol_consumption', 'Hepatitis_B', 'Measles',\n",
       "       'BMI', 'Polio', 'Diphtheria', 'Incidents_HIV', 'GDP_per_capita',\n",
       "       'Population_mln', 'Thinness_ten_nineteen_years',\n",
       "       'Thinness_five_nine_years', 'Schooling', 'Economy_status_Developed',\n",
       "       'Economy_status_Developing', 'Region_Asia',\n",
       "       'Region_Central America and Caribbean', 'Region_European Union',\n",
       "       'Region_Middle East', 'Region_North America', 'Region_Oceania',\n",
       "       'Region_Rest of Europe', 'Region_South America'],\n",
       "      dtype='object')"
      ]
     },
     "execution_count": 60,
     "metadata": {},
     "output_type": "execute_result"
    }
   ],
   "source": [
    "X_train_fe.columns ## Full Column list"
   ]
  },
  {
   "cell_type": "code",
   "execution_count": 62,
   "metadata": {
    "ExecuteTime": {
     "end_time": "2023-07-10T11:38:32.638432400Z",
     "start_time": "2023-07-10T11:38:32.541708700Z"
    },
    "collapsed": false
   },
   "outputs": [
    {
     "data": {
      "text/html": [
       "<div>\n",
       "<style scoped>\n",
       "    .dataframe tbody tr th:only-of-type {\n",
       "        vertical-align: middle;\n",
       "    }\n",
       "\n",
       "    .dataframe tbody tr th {\n",
       "        vertical-align: top;\n",
       "    }\n",
       "\n",
       "    .dataframe thead th {\n",
       "        text-align: right;\n",
       "    }\n",
       "</style>\n",
       "<table border=\"1\" class=\"dataframe\">\n",
       "  <thead>\n",
       "    <tr style=\"text-align: right;\">\n",
       "      <th></th>\n",
       "      <th>index</th>\n",
       "      <th>Life_expectancy</th>\n",
       "    </tr>\n",
       "  </thead>\n",
       "  <tbody>\n",
       "    <tr>\n",
       "      <th>18</th>\n",
       "      <td>Life_expectancy</td>\n",
       "      <td>1.000000</td>\n",
       "    </tr>\n",
       "    <tr>\n",
       "      <th>3</th>\n",
       "      <td>Adult_mortality</td>\n",
       "      <td>0.945360</td>\n",
       "    </tr>\n",
       "    <tr>\n",
       "      <th>2</th>\n",
       "      <td>Under_five_deaths</td>\n",
       "      <td>0.920419</td>\n",
       "    </tr>\n",
       "    <tr>\n",
       "      <th>1</th>\n",
       "      <td>Infant_deaths</td>\n",
       "      <td>0.920032</td>\n",
       "    </tr>\n",
       "    <tr>\n",
       "      <th>15</th>\n",
       "      <td>Schooling</td>\n",
       "      <td>0.732484</td>\n",
       "    </tr>\n",
       "    <tr>\n",
       "      <th>8</th>\n",
       "      <td>Polio</td>\n",
       "      <td>0.641217</td>\n",
       "    </tr>\n",
       "    <tr>\n",
       "      <th>9</th>\n",
       "      <td>Diphtheria</td>\n",
       "      <td>0.627541</td>\n",
       "    </tr>\n",
       "    <tr>\n",
       "      <th>7</th>\n",
       "      <td>BMI</td>\n",
       "      <td>0.598423</td>\n",
       "    </tr>\n",
       "    <tr>\n",
       "      <th>11</th>\n",
       "      <td>GDP_per_capita</td>\n",
       "      <td>0.583090</td>\n",
       "    </tr>\n",
       "    <tr>\n",
       "      <th>10</th>\n",
       "      <td>Incidents_HIV</td>\n",
       "      <td>0.553027</td>\n",
       "    </tr>\n",
       "    <tr>\n",
       "      <th>17</th>\n",
       "      <td>Economy_status_Developing</td>\n",
       "      <td>0.523791</td>\n",
       "    </tr>\n",
       "    <tr>\n",
       "      <th>16</th>\n",
       "      <td>Economy_status_Developed</td>\n",
       "      <td>0.523791</td>\n",
       "    </tr>\n",
       "    <tr>\n",
       "      <th>6</th>\n",
       "      <td>Measles</td>\n",
       "      <td>0.490019</td>\n",
       "    </tr>\n",
       "    <tr>\n",
       "      <th>13</th>\n",
       "      <td>Thinness_ten_nineteen_years</td>\n",
       "      <td>0.467824</td>\n",
       "    </tr>\n",
       "    <tr>\n",
       "      <th>14</th>\n",
       "      <td>Thinness_five_nine_years</td>\n",
       "      <td>0.458166</td>\n",
       "    </tr>\n",
       "    <tr>\n",
       "      <th>5</th>\n",
       "      <td>Hepatitis_B</td>\n",
       "      <td>0.417804</td>\n",
       "    </tr>\n",
       "    <tr>\n",
       "      <th>4</th>\n",
       "      <td>Alcohol_consumption</td>\n",
       "      <td>0.399159</td>\n",
       "    </tr>\n",
       "    <tr>\n",
       "      <th>21</th>\n",
       "      <td>Region_European Union</td>\n",
       "      <td>0.397038</td>\n",
       "    </tr>\n",
       "    <tr>\n",
       "      <th>25</th>\n",
       "      <td>Region_Rest of Europe</td>\n",
       "      <td>0.182325</td>\n",
       "    </tr>\n",
       "    <tr>\n",
       "      <th>0</th>\n",
       "      <td>Year</td>\n",
       "      <td>0.174359</td>\n",
       "    </tr>\n",
       "    <tr>\n",
       "      <th>22</th>\n",
       "      <td>Region_Middle East</td>\n",
       "      <td>0.158572</td>\n",
       "    </tr>\n",
       "    <tr>\n",
       "      <th>20</th>\n",
       "      <td>Region_Central America and Caribbean</td>\n",
       "      <td>0.131239</td>\n",
       "    </tr>\n",
       "    <tr>\n",
       "      <th>23</th>\n",
       "      <td>Region_North America</td>\n",
       "      <td>0.124750</td>\n",
       "    </tr>\n",
       "    <tr>\n",
       "      <th>26</th>\n",
       "      <td>Region_South America</td>\n",
       "      <td>0.111872</td>\n",
       "    </tr>\n",
       "    <tr>\n",
       "      <th>19</th>\n",
       "      <td>Region_Asia</td>\n",
       "      <td>0.026836</td>\n",
       "    </tr>\n",
       "    <tr>\n",
       "      <th>12</th>\n",
       "      <td>Population_mln</td>\n",
       "      <td>0.026298</td>\n",
       "    </tr>\n",
       "    <tr>\n",
       "      <th>24</th>\n",
       "      <td>Region_Oceania</td>\n",
       "      <td>0.018001</td>\n",
       "    </tr>\n",
       "  </tbody>\n",
       "</table>\n",
       "</div>"
      ],
      "text/plain": [
       "                                   index  Life_expectancy\n",
       "18                       Life_expectancy         1.000000\n",
       "3                        Adult_mortality         0.945360\n",
       "2                      Under_five_deaths         0.920419\n",
       "1                          Infant_deaths         0.920032\n",
       "15                             Schooling         0.732484\n",
       "8                                  Polio         0.641217\n",
       "9                             Diphtheria         0.627541\n",
       "7                                    BMI         0.598423\n",
       "11                        GDP_per_capita         0.583090\n",
       "10                         Incidents_HIV         0.553027\n",
       "17             Economy_status_Developing         0.523791\n",
       "16              Economy_status_Developed         0.523791\n",
       "6                                Measles         0.490019\n",
       "13           Thinness_ten_nineteen_years         0.467824\n",
       "14              Thinness_five_nine_years         0.458166\n",
       "5                            Hepatitis_B         0.417804\n",
       "4                    Alcohol_consumption         0.399159\n",
       "21                 Region_European Union         0.397038\n",
       "25                 Region_Rest of Europe         0.182325\n",
       "0                                   Year         0.174359\n",
       "22                    Region_Middle East         0.158572\n",
       "20  Region_Central America and Caribbean         0.131239\n",
       "23                  Region_North America         0.124750\n",
       "26                  Region_South America         0.111872\n",
       "19                           Region_Asia         0.026836\n",
       "12                        Population_mln         0.026298\n",
       "24                        Region_Oceania         0.018001"
      ]
     },
     "execution_count": 62,
     "metadata": {},
     "output_type": "execute_result"
    }
   ],
   "source": [
    "## Creating the rank\n",
    "\n",
    "rankedcorr = pd.get_dummies(df, columns = ['Region'], drop_first = True, prefix = 'Region').copy()  ## Using DF due to still having y value, so needed to 1 hot encode region for rankedcorr\n",
    "rankedcorr=rankedcorr[rankedcorr.columns[1:]].corr()['Life_expectancy'].reset_index()\n",
    "rankedcorr['Life_expectancy']=rankedcorr['Life_expectancy'].abs()  ## Absolute values means the returned ranked is based on strength of corrolation regardless of positive or negative correlation\n",
    "rankedcorr=rankedcorr.sort_values(['Life_expectancy'],ascending=False)\n",
    "rankedcorr"
   ]
  },
  {
   "cell_type": "markdown",
   "metadata": {
    "collapsed": false
   },
   "source": [
    "### Using statsmodel, running Linear Regression"
   ]
  },
  {
   "cell_type": "code",
   "execution_count": 32,
   "metadata": {
    "ExecuteTime": {
     "end_time": "2023-07-10T10:47:53.489774600Z",
     "start_time": "2023-07-10T10:47:53.363563400Z"
    },
    "collapsed": false
   },
   "outputs": [
    {
     "data": {
      "text/html": [
       "<table class=\"simpletable\">\n",
       "<caption>OLS Regression Results</caption>\n",
       "<tr>\n",
       "  <th>Dep. Variable:</th>     <td>Life_expectancy</td> <th>  R-squared:         </th> <td>   0.976</td> \n",
       "</tr>\n",
       "<tr>\n",
       "  <th>Model:</th>                   <td>OLS</td>       <th>  Adj. R-squared:    </th> <td>   0.976</td> \n",
       "</tr>\n",
       "<tr>\n",
       "  <th>Method:</th>             <td>Least Squares</td>  <th>  F-statistic:       </th> <td>1.896e+04</td>\n",
       "</tr>\n",
       "<tr>\n",
       "  <th>Date:</th>             <td>Mon, 10 Jul 2023</td> <th>  Prob (F-statistic):</th>  <td>  0.00</td>  \n",
       "</tr>\n",
       "<tr>\n",
       "  <th>Time:</th>                 <td>11:47:53</td>     <th>  Log-Likelihood:    </th> <td> -4096.0</td> \n",
       "</tr>\n",
       "<tr>\n",
       "  <th>No. Observations:</th>      <td>  2291</td>      <th>  AIC:               </th> <td>   8204.</td> \n",
       "</tr>\n",
       "<tr>\n",
       "  <th>Df Residuals:</th>          <td>  2285</td>      <th>  BIC:               </th> <td>   8238.</td> \n",
       "</tr>\n",
       "<tr>\n",
       "  <th>Df Model:</th>              <td>     5</td>      <th>                     </th>     <td> </td>    \n",
       "</tr>\n",
       "<tr>\n",
       "  <th>Covariance Type:</th>      <td>nonrobust</td>    <th>                     </th>     <td> </td>    \n",
       "</tr>\n",
       "</table>\n",
       "<table class=\"simpletable\">\n",
       "<tr>\n",
       "              <td></td>                 <th>coef</th>     <th>std err</th>      <th>t</th>      <th>P>|t|</th>  <th>[0.025</th>    <th>0.975]</th>  \n",
       "</tr>\n",
       "<tr>\n",
       "  <th>const</th>                     <td>   83.6456</td> <td>    0.087</td> <td>  963.277</td> <td> 0.000</td> <td>   83.475</td> <td>   83.816</td>\n",
       "</tr>\n",
       "<tr>\n",
       "  <th>Adult_mortality</th>           <td>   -0.0477</td> <td>    0.001</td> <td>  -72.858</td> <td> 0.000</td> <td>   -0.049</td> <td>   -0.046</td>\n",
       "</tr>\n",
       "<tr>\n",
       "  <th>Under_five_deaths</th>         <td>   -0.0488</td> <td>    0.004</td> <td>  -11.046</td> <td> 0.000</td> <td>   -0.057</td> <td>   -0.040</td>\n",
       "</tr>\n",
       "<tr>\n",
       "  <th>Infant_deaths</th>             <td>   -0.0686</td> <td>    0.007</td> <td>   -9.513</td> <td> 0.000</td> <td>   -0.083</td> <td>   -0.054</td>\n",
       "</tr>\n",
       "<tr>\n",
       "  <th>Incidents_HIV</th>             <td>    0.0953</td> <td>    0.020</td> <td>    4.793</td> <td> 0.000</td> <td>    0.056</td> <td>    0.134</td>\n",
       "</tr>\n",
       "<tr>\n",
       "  <th>Economy_status_Developing</th> <td>   -1.9567</td> <td>    0.090</td> <td>  -21.761</td> <td> 0.000</td> <td>   -2.133</td> <td>   -1.780</td>\n",
       "</tr>\n",
       "</table>\n",
       "<table class=\"simpletable\">\n",
       "<tr>\n",
       "  <th>Omnibus:</th>       <td> 0.318</td> <th>  Durbin-Watson:     </th> <td>   2.025</td>\n",
       "</tr>\n",
       "<tr>\n",
       "  <th>Prob(Omnibus):</th> <td> 0.853</td> <th>  Jarque-Bera (JB):  </th> <td>   0.306</td>\n",
       "</tr>\n",
       "<tr>\n",
       "  <th>Skew:</th>          <td>-0.028</td> <th>  Prob(JB):          </th> <td>   0.858</td>\n",
       "</tr>\n",
       "<tr>\n",
       "  <th>Kurtosis:</th>      <td> 3.003</td> <th>  Cond. No.          </th> <td>    808.</td>\n",
       "</tr>\n",
       "</table><br/><br/>Notes:<br/>[1] Standard Errors assume that the covariance matrix of the errors is correctly specified."
      ],
      "text/plain": [
       "<class 'statsmodels.iolib.summary.Summary'>\n",
       "\"\"\"\n",
       "                            OLS Regression Results                            \n",
       "==============================================================================\n",
       "Dep. Variable:        Life_expectancy   R-squared:                       0.976\n",
       "Model:                            OLS   Adj. R-squared:                  0.976\n",
       "Method:                 Least Squares   F-statistic:                 1.896e+04\n",
       "Date:                Mon, 10 Jul 2023   Prob (F-statistic):               0.00\n",
       "Time:                        11:47:53   Log-Likelihood:                -4096.0\n",
       "No. Observations:                2291   AIC:                             8204.\n",
       "Df Residuals:                    2285   BIC:                             8238.\n",
       "Df Model:                           5                                         \n",
       "Covariance Type:            nonrobust                                         \n",
       "=============================================================================================\n",
       "                                coef    std err          t      P>|t|      [0.025      0.975]\n",
       "---------------------------------------------------------------------------------------------\n",
       "const                        83.6456      0.087    963.277      0.000      83.475      83.816\n",
       "Adult_mortality              -0.0477      0.001    -72.858      0.000      -0.049      -0.046\n",
       "Under_five_deaths            -0.0488      0.004    -11.046      0.000      -0.057      -0.040\n",
       "Infant_deaths                -0.0686      0.007     -9.513      0.000      -0.083      -0.054\n",
       "Incidents_HIV                 0.0953      0.020      4.793      0.000       0.056       0.134\n",
       "Economy_status_Developing    -1.9567      0.090    -21.761      0.000      -2.133      -1.780\n",
       "==============================================================================\n",
       "Omnibus:                        0.318   Durbin-Watson:                   2.025\n",
       "Prob(Omnibus):                  0.853   Jarque-Bera (JB):                0.306\n",
       "Skew:                          -0.028   Prob(JB):                        0.858\n",
       "Kurtosis:                       3.003   Cond. No.                         808.\n",
       "==============================================================================\n",
       "\n",
       "Notes:\n",
       "[1] Standard Errors assume that the covariance matrix of the errors is correctly specified.\n",
       "\"\"\""
      ]
     },
     "execution_count": 32,
     "metadata": {},
     "output_type": "execute_result"
    }
   ],
   "source": [
    "feature_cols = ['const', 'Adult_mortality','Under_five_deaths','Infant_deaths','Incidents_HIV','Economy_status_Developing']\n",
    "\n",
    "\n",
    "lin_reg = sm.OLS(y_train, X_train_fe[feature_cols])\n",
    "results = lin_reg.fit()\n",
    "results.summary()"
   ]
  },
  {
   "cell_type": "markdown",
   "metadata": {
    "collapsed": false
   },
   "source": [
    "### Calculate Train RMSE"
   ]
  },
  {
   "cell_type": "code",
   "execution_count": 102,
   "metadata": {
    "ExecuteTime": {
     "end_time": "2023-07-10T13:45:45.134707600Z",
     "start_time": "2023-07-10T13:45:45.066895100Z"
    },
    "collapsed": false
   },
   "outputs": [
    {
     "name": "stdout",
     "output_type": "stream",
     "text": [
      "1.4461638332250788\n"
     ]
    }
   ],
   "source": [
    "## Generate the predictions\n",
    "\n",
    "y_pred = results.predict(X_train_fe[feature_cols]) ## Predict on the trianing set with the selected features\n",
    "\n",
    "rmse = statsmodels.tools.eval_measures.rmse(y_train, y_pred) ## Evaluate the RMSE\n",
    "\n",
    "## Print the RMSE\n",
    "print(rmse)"
   ]
  },
  {
   "cell_type": "markdown",
   "metadata": {
    "collapsed": false
   },
   "source": []
  },
  {
   "cell_type": "markdown",
   "metadata": {
    "collapsed": false
   },
   "source": []
  },
  {
   "cell_type": "markdown",
   "metadata": {
    "collapsed": false
   },
   "source": [
    "# Test"
   ]
  },
  {
   "cell_type": "code",
   "execution_count": 35,
   "metadata": {
    "ExecuteTime": {
     "end_time": "2023-07-10T10:54:10.203670400Z",
     "start_time": "2023-07-10T10:54:10.131460800Z"
    },
    "collapsed": false
   },
   "outputs": [],
   "source": [
    "X_test_fe = feature_eng(X_test)\n",
    "X_test_fe = X_test_fe[feature_cols]\n"
   ]
  },
  {
   "cell_type": "markdown",
   "metadata": {
    "collapsed": false
   },
   "source": [
    "### Calculate Test RMSE"
   ]
  },
  {
   "cell_type": "code",
   "execution_count": 103,
   "metadata": {
    "ExecuteTime": {
     "end_time": "2023-07-10T13:45:51.019785300Z",
     "start_time": "2023-07-10T13:45:50.972309500Z"
    },
    "collapsed": false
   },
   "outputs": [
    {
     "name": "stdout",
     "output_type": "stream",
     "text": [
      "1.391260545505006\n"
     ]
    }
   ],
   "source": [
    "y_test_pred = results.predict(X_test_fe)\n",
    "rmse_Test = statsmodels.tools.eval_measures.rmse(y_test, y_test_pred)\n",
    "print(rmse_Test)"
   ]
  },
  {
   "cell_type": "markdown",
   "metadata": {
    "collapsed": false
   },
   "source": []
  },
  {
   "cell_type": "markdown",
   "metadata": {
    "collapsed": false
   },
   "source": []
  },
  {
   "cell_type": "markdown",
   "metadata": {
    "collapsed": false
   },
   "source": [
    "# Limited Model\n",
    "For clarity, everything for the model will be seperated from the main model with a 'L_'^"
   ]
  },
  {
   "cell_type": "markdown",
   "metadata": {
    "collapsed": false
   },
   "source": [
    "## Try"
   ]
  },
  {
   "cell_type": "code",
   "execution_count": 45,
   "metadata": {
    "ExecuteTime": {
     "end_time": "2023-07-10T11:11:37.190528800Z",
     "start_time": "2023-07-10T11:11:37.051523900Z"
    },
    "collapsed": false
   },
   "outputs": [
    {
     "data": {
      "text/html": [
       "<table class=\"simpletable\">\n",
       "<caption>OLS Regression Results</caption>\n",
       "<tr>\n",
       "  <th>Dep. Variable:</th>     <td>Life_expectancy</td> <th>  R-squared:         </th> <td>   0.976</td> \n",
       "</tr>\n",
       "<tr>\n",
       "  <th>Model:</th>                   <td>OLS</td>       <th>  Adj. R-squared:    </th> <td>   0.976</td> \n",
       "</tr>\n",
       "<tr>\n",
       "  <th>Method:</th>             <td>Least Squares</td>  <th>  F-statistic:       </th> <td>2.347e+04</td>\n",
       "</tr>\n",
       "<tr>\n",
       "  <th>Date:</th>             <td>Mon, 10 Jul 2023</td> <th>  Prob (F-statistic):</th>  <td>  0.00</td>  \n",
       "</tr>\n",
       "<tr>\n",
       "  <th>Time:</th>                 <td>12:11:37</td>     <th>  Log-Likelihood:    </th> <td> -4107.4</td> \n",
       "</tr>\n",
       "<tr>\n",
       "  <th>No. Observations:</th>      <td>  2291</td>      <th>  AIC:               </th> <td>   8225.</td> \n",
       "</tr>\n",
       "<tr>\n",
       "  <th>Df Residuals:</th>          <td>  2286</td>      <th>  BIC:               </th> <td>   8254.</td> \n",
       "</tr>\n",
       "<tr>\n",
       "  <th>Df Model:</th>              <td>     4</td>      <th>                     </th>     <td> </td>    \n",
       "</tr>\n",
       "<tr>\n",
       "  <th>Covariance Type:</th>      <td>nonrobust</td>    <th>                     </th>     <td> </td>    \n",
       "</tr>\n",
       "</table>\n",
       "<table class=\"simpletable\">\n",
       "<tr>\n",
       "              <td></td>                 <th>coef</th>     <th>std err</th>      <th>t</th>      <th>P>|t|</th>  <th>[0.025</th>    <th>0.975]</th>  \n",
       "</tr>\n",
       "<tr>\n",
       "  <th>const</th>                     <td>   83.4542</td> <td>    0.077</td> <td> 1077.150</td> <td> 0.000</td> <td>   83.302</td> <td>   83.606</td>\n",
       "</tr>\n",
       "<tr>\n",
       "  <th>Adult_mortality</th>           <td>   -0.0454</td> <td>    0.000</td> <td> -101.345</td> <td> 0.000</td> <td>   -0.046</td> <td>   -0.044</td>\n",
       "</tr>\n",
       "<tr>\n",
       "  <th>Under_five_deaths</th>         <td>   -0.0488</td> <td>    0.004</td> <td>  -10.997</td> <td> 0.000</td> <td>   -0.057</td> <td>   -0.040</td>\n",
       "</tr>\n",
       "<tr>\n",
       "  <th>Infant_deaths</th>             <td>   -0.0731</td> <td>    0.007</td> <td>  -10.169</td> <td> 0.000</td> <td>   -0.087</td> <td>   -0.059</td>\n",
       "</tr>\n",
       "<tr>\n",
       "  <th>Economy_status_Developing</th> <td>   -1.9928</td> <td>    0.090</td> <td>  -22.134</td> <td> 0.000</td> <td>   -2.169</td> <td>   -1.816</td>\n",
       "</tr>\n",
       "</table>\n",
       "<table class=\"simpletable\">\n",
       "<tr>\n",
       "  <th>Omnibus:</th>       <td> 0.564</td> <th>  Durbin-Watson:     </th> <td>   2.017</td>\n",
       "</tr>\n",
       "<tr>\n",
       "  <th>Prob(Omnibus):</th> <td> 0.754</td> <th>  Jarque-Bera (JB):  </th> <td>   0.627</td>\n",
       "</tr>\n",
       "<tr>\n",
       "  <th>Skew:</th>          <td> 0.020</td> <th>  Prob(JB):          </th> <td>   0.731</td>\n",
       "</tr>\n",
       "<tr>\n",
       "  <th>Kurtosis:</th>      <td> 2.930</td> <th>  Cond. No.          </th> <td>    793.</td>\n",
       "</tr>\n",
       "</table><br/><br/>Notes:<br/>[1] Standard Errors assume that the covariance matrix of the errors is correctly specified."
      ],
      "text/plain": [
       "<class 'statsmodels.iolib.summary.Summary'>\n",
       "\"\"\"\n",
       "                            OLS Regression Results                            \n",
       "==============================================================================\n",
       "Dep. Variable:        Life_expectancy   R-squared:                       0.976\n",
       "Model:                            OLS   Adj. R-squared:                  0.976\n",
       "Method:                 Least Squares   F-statistic:                 2.347e+04\n",
       "Date:                Mon, 10 Jul 2023   Prob (F-statistic):               0.00\n",
       "Time:                        12:11:37   Log-Likelihood:                -4107.4\n",
       "No. Observations:                2291   AIC:                             8225.\n",
       "Df Residuals:                    2286   BIC:                             8254.\n",
       "Df Model:                           4                                         \n",
       "Covariance Type:            nonrobust                                         \n",
       "=============================================================================================\n",
       "                                coef    std err          t      P>|t|      [0.025      0.975]\n",
       "---------------------------------------------------------------------------------------------\n",
       "const                        83.4542      0.077   1077.150      0.000      83.302      83.606\n",
       "Adult_mortality              -0.0454      0.000   -101.345      0.000      -0.046      -0.044\n",
       "Under_five_deaths            -0.0488      0.004    -10.997      0.000      -0.057      -0.040\n",
       "Infant_deaths                -0.0731      0.007    -10.169      0.000      -0.087      -0.059\n",
       "Economy_status_Developing    -1.9928      0.090    -22.134      0.000      -2.169      -1.816\n",
       "==============================================================================\n",
       "Omnibus:                        0.564   Durbin-Watson:                   2.017\n",
       "Prob(Omnibus):                  0.754   Jarque-Bera (JB):                0.627\n",
       "Skew:                           0.020   Prob(JB):                        0.731\n",
       "Kurtosis:                       2.930   Cond. No.                         793.\n",
       "==============================================================================\n",
       "\n",
       "Notes:\n",
       "[1] Standard Errors assume that the covariance matrix of the errors is correctly specified.\n",
       "\"\"\""
      ]
     },
     "execution_count": 45,
     "metadata": {},
     "output_type": "execute_result"
    }
   ],
   "source": [
    "L_feature_cols = ['const', 'Adult_mortality','Under_five_deaths','Infant_deaths','Economy_status_Developing']\n",
    "\n",
    "\n",
    "L_lin_reg = sm.OLS(y_train, X_train_fe[L_feature_cols])\n",
    "L_results = L_lin_reg.fit()\n",
    "L_results.summary()"
   ]
  },
  {
   "cell_type": "markdown",
   "metadata": {
    "collapsed": false
   },
   "source": [
    "### Limited model Train RMSE"
   ]
  },
  {
   "cell_type": "code",
   "execution_count": 106,
   "metadata": {
    "ExecuteTime": {
     "end_time": "2023-07-10T13:47:00.148965700Z",
     "start_time": "2023-07-10T13:47:00.083370500Z"
    },
    "collapsed": false
   },
   "outputs": [
    {
     "name": "stdout",
     "output_type": "stream",
     "text": [
      "1.4534145336653435\n"
     ]
    }
   ],
   "source": [
    "L_y_pred = L_results.predict(X_train_fe[L_feature_cols])\n",
    "\n",
    "L_rmse = statsmodels.tools.eval_measures.rmse(y_train, L_y_pred)\n",
    "\n",
    "print(L_rmse)"
   ]
  },
  {
   "cell_type": "markdown",
   "metadata": {
    "collapsed": false
   },
   "source": []
  },
  {
   "cell_type": "markdown",
   "metadata": {
    "collapsed": false
   },
   "source": [
    "### Limited Model Test"
   ]
  },
  {
   "cell_type": "code",
   "execution_count": 47,
   "metadata": {
    "ExecuteTime": {
     "end_time": "2023-07-10T11:11:48.570044700Z",
     "start_time": "2023-07-10T11:11:48.429760400Z"
    },
    "collapsed": false
   },
   "outputs": [],
   "source": [
    "L_X_test_fe = X_test_fe[L_feature_cols]"
   ]
  },
  {
   "cell_type": "code",
   "execution_count": 52,
   "metadata": {
    "ExecuteTime": {
     "end_time": "2023-07-10T11:21:55.415162900Z",
     "start_time": "2023-07-10T11:21:55.255731Z"
    },
    "collapsed": false
   },
   "outputs": [
    {
     "data": {
      "text/html": [
       "<div>\n",
       "<style scoped>\n",
       "    .dataframe tbody tr th:only-of-type {\n",
       "        vertical-align: middle;\n",
       "    }\n",
       "\n",
       "    .dataframe tbody tr th {\n",
       "        vertical-align: top;\n",
       "    }\n",
       "\n",
       "    .dataframe thead th {\n",
       "        text-align: right;\n",
       "    }\n",
       "</style>\n",
       "<table border=\"1\" class=\"dataframe\">\n",
       "  <thead>\n",
       "    <tr style=\"text-align: right;\">\n",
       "      <th></th>\n",
       "      <th>const</th>\n",
       "      <th>Adult_mortality</th>\n",
       "      <th>Under_five_deaths</th>\n",
       "      <th>Infant_deaths</th>\n",
       "      <th>Economy_status_Developing</th>\n",
       "    </tr>\n",
       "  </thead>\n",
       "  <tbody>\n",
       "    <tr>\n",
       "      <th>1296</th>\n",
       "      <td>1.0</td>\n",
       "      <td>129.6060</td>\n",
       "      <td>7.2</td>\n",
       "      <td>5.9</td>\n",
       "      <td>0</td>\n",
       "    </tr>\n",
       "    <tr>\n",
       "      <th>2160</th>\n",
       "      <td>1.0</td>\n",
       "      <td>146.2040</td>\n",
       "      <td>23.5</td>\n",
       "      <td>19.9</td>\n",
       "      <td>1</td>\n",
       "    </tr>\n",
       "    <tr>\n",
       "      <th>2218</th>\n",
       "      <td>1.0</td>\n",
       "      <td>384.1585</td>\n",
       "      <td>86.8</td>\n",
       "      <td>54.5</td>\n",
       "      <td>1</td>\n",
       "    </tr>\n",
       "    <tr>\n",
       "      <th>1534</th>\n",
       "      <td>1.0</td>\n",
       "      <td>191.3835</td>\n",
       "      <td>23.5</td>\n",
       "      <td>20.0</td>\n",
       "      <td>1</td>\n",
       "    </tr>\n",
       "    <tr>\n",
       "      <th>1820</th>\n",
       "      <td>1.0</td>\n",
       "      <td>54.2180</td>\n",
       "      <td>6.6</td>\n",
       "      <td>5.8</td>\n",
       "      <td>0</td>\n",
       "    </tr>\n",
       "  </tbody>\n",
       "</table>\n",
       "</div>"
      ],
      "text/plain": [
       "      const  Adult_mortality  Under_five_deaths  Infant_deaths  \\\n",
       "1296    1.0         129.6060                7.2            5.9   \n",
       "2160    1.0         146.2040               23.5           19.9   \n",
       "2218    1.0         384.1585               86.8           54.5   \n",
       "1534    1.0         191.3835               23.5           20.0   \n",
       "1820    1.0          54.2180                6.6            5.8   \n",
       "\n",
       "      Economy_status_Developing  \n",
       "1296                          0  \n",
       "2160                          1  \n",
       "2218                          1  \n",
       "1534                          1  \n",
       "1820                          0  "
      ]
     },
     "execution_count": 52,
     "metadata": {},
     "output_type": "execute_result"
    }
   ],
   "source": [
    "L_X_test_fe.head()"
   ]
  },
  {
   "cell_type": "code",
   "execution_count": 107,
   "metadata": {
    "ExecuteTime": {
     "end_time": "2023-07-10T13:47:02.382263700Z",
     "start_time": "2023-07-10T13:47:02.317280700Z"
    },
    "collapsed": false
   },
   "outputs": [
    {
     "name": "stdout",
     "output_type": "stream",
     "text": [
      "1.4013873399183152\n"
     ]
    }
   ],
   "source": [
    "L_y_test_pred = L_results.predict(L_X_test_fe)\n",
    "L_rmse_Test = statsmodels.tools.eval_measures.rmse(y_test, L_y_test_pred)\n",
    "print(L_rmse_Test)"
   ]
  },
  {
   "cell_type": "markdown",
   "metadata": {
    "collapsed": false
   },
   "source": []
  },
  {
   "cell_type": "markdown",
   "metadata": {
    "collapsed": false
   },
   "source": [
    "# Final Prep"
   ]
  },
  {
   "cell_type": "markdown",
   "metadata": {
    "collapsed": false
   },
   "source": [
    "### All the RMSE's together"
   ]
  },
  {
   "cell_type": "code",
   "execution_count": 105,
   "metadata": {
    "ExecuteTime": {
     "end_time": "2023-07-10T13:46:53.012348100Z",
     "start_time": "2023-07-10T13:46:52.953621200Z"
    },
    "collapsed": false
   },
   "outputs": [
    {
     "name": "stdout",
     "output_type": "stream",
     "text": [
      "Train RMSE= 1.4461638332250788\n",
      "Test RMSE= 1.391260545505006\n",
      "And for the limited model:\n",
      "Train RMSE= 1.4534145336653435\n",
      "Test RMSE= 1.4013873399183152\n"
     ]
    }
   ],
   "source": [
    "print('Train RMSE=',rmse)\n",
    "print('Test RMSE=',rmse_Test)\n",
    "print('And for the limited model:')\n",
    "print('Train RMSE=',L_rmse)\n",
    "print('Test RMSE=',L_rmse_Test)"
   ]
  },
  {
   "cell_type": "markdown",
   "metadata": {
    "collapsed": false
   },
   "source": []
  },
  {
   "cell_type": "markdown",
   "metadata": {
    "collapsed": false
   },
   "source": [
    "### Saving the models"
   ]
  },
  {
   "cell_type": "code",
   "execution_count": 85,
   "metadata": {
    "ExecuteTime": {
     "end_time": "2023-07-10T12:02:03.929703500Z",
     "start_time": "2023-07-10T12:02:03.806614500Z"
    },
    "collapsed": false
   },
   "outputs": [
    {
     "data": {
      "text/plain": [
       "['limited_model.pkl']"
      ]
     },
     "execution_count": 85,
     "metadata": {},
     "output_type": "execute_result"
    }
   ],
   "source": [
    "import joblib\n",
    "\n",
    "# Save the trained model\n",
    "joblib.dump(results, 'linear_regression_model.pkl')\n",
    "joblib.dump(L_results, 'limited_model.pkl')"
   ]
  },
  {
   "cell_type": "markdown",
   "metadata": {
    "collapsed": false
   },
   "source": []
  },
  {
   "cell_type": "markdown",
   "metadata": {
    "collapsed": false
   },
   "source": [
    "# TTS & Modelling Finished\n",
    "Head to the next workbook for the final function & the input\n",
    "Project 3.3  - Final.ipynb"
   ]
  }
 ],
 "metadata": {
  "kernelspec": {
   "display_name": "Python 3",
   "language": "python",
   "name": "python3"
  },
  "language_info": {
   "codemirror_mode": {
    "name": "ipython",
    "version": 2
   },
   "file_extension": ".py",
   "mimetype": "text/x-python",
   "name": "python",
   "nbconvert_exporter": "python",
   "pygments_lexer": "ipython2",
   "version": "2.7.6"
  }
 },
 "nbformat": 4,
 "nbformat_minor": 0
}
