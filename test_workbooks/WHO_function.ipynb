{
 "cells": [
  {
   "cell_type": "code",
   "execution_count": 72,
   "metadata": {},
   "outputs": [],
   "source": [
    "import pandas as pd\n",
    "import joblib\n",
    "import statsmodels.api as sm"
   ]
  },
  {
   "cell_type": "code",
   "execution_count": 73,
   "metadata": {},
   "outputs": [],
   "source": [
    "## import model from Project3.2 -TTS_&_Modelling (please execute cell to upload model to you working directory)\n",
    "model = joblib.load('model.pkl')\n",
    "\n",
    "limited_model = joblib.load('limited_model.pkl')"
   ]
  },
  {
   "cell_type": "code",
   "execution_count": 79,
   "metadata": {},
   "outputs": [],
   "source": [
    "def life_expectancy():\n",
    "\n",
    "    '''Function to predict life expectancy'''\n",
    "\n",
    "    ## ask user for for input - if incorrect input is given, keep prompting\n",
    "    while True:\n",
    "        consent = input('Are you happy to use the model requiring sensitive information? (y/n): ') \n",
    "        if consent.lower() in ['y', 'n']:\n",
    "            # if correct input is given break out of loop\n",
    "            break\n",
    "        else:\n",
    "            # else prompt for correct input\n",
    "            print('Please enter y/n')\n",
    "\n",
    "    ## if consent is given \n",
    "    if consent.lower() == 'y':\n",
    "        # prompt user for further input for the values in our features\n",
    "        adult_mortality = float(input('Please enter Adult Mortality number: '))\n",
    "        under_five_deaths = float(input('Please enter Under Five Deaths number: '))\n",
    "        infant_deaths = float(input('Please enter Infant Deaths number: '))\n",
    "        incidents_hiv = float(input('Please enter Incidents of HIV number: '))\n",
    "        economy_status_developing = int(input('Please enter Economy Status: 1 = Developed, 0 = Developing: '))\n",
    "\n",
    "        # create a dataframe for our model to test, passing the inputs to the values\n",
    "        non_sensitive_df = pd.DataFrame({\n",
    "            'const': 1.0,\n",
    "            'adult_mortality': adult_mortality,\n",
    "            'under_five_deaths': under_five_deaths,\n",
    "            'infant_deaths': infant_deaths,\n",
    "            'incidents_hiv': incidents_hiv,\n",
    "            'economy_status_developing': economy_status_developing\n",
    "        }, index=[0])\n",
    "\n",
    "        # make prediction with imported linear regression model (complete version)\n",
    "        prediction = model.predict(non_sensitive_df)\n",
    "        \n",
    "        # return only the value rounded to 2 decimal places\n",
    "        return round(prediction.values[0],2)\n",
    "    \n",
    "    ## else if consent isn't given\n",
    "    else:\n",
    "        # prompt user for further input for the values in our features\n",
    "        adult_mortality = float(input('Please enter Adult Mortality number: '))\n",
    "        under_five_deaths = float(input('Please enter Under Five Deaths number: '))\n",
    "        infant_deaths = float(input('Please enter Infant Deaths number: '))\n",
    "        economy_status_developing = int(input('Please enter Economy Status: 1 = Developed, 0 = Developing: '))\n",
    "\n",
    "        # create a dataframe for our model to test, passing the inputs to the values\n",
    "        sensitive_df = pd.DataFrame({\n",
    "            'const': 1.0,\n",
    "            'adult_mortality': adult_mortality,\n",
    "            'under_five_deaths': under_five_deaths,\n",
    "            'infant_deaths': infant_deaths,\n",
    "            'economy_status_developing': economy_status_developing\n",
    "        }, index=[0])\n",
    "\n",
    "        # make prediction with imported linear regression model (limited version)\n",
    "        prediction2 = limited_model.predict(sensitive_df)\n",
    "        \n",
    "        # return only the value rounded to 2 decimal places\n",
    "        return round(prediction2.values[0],2)\n"
   ]
  }
 ],
 "metadata": {
  "kernelspec": {
   "display_name": "base",
   "language": "python",
   "name": "python3"
  },
  "language_info": {
   "codemirror_mode": {
    "name": "ipython",
    "version": 3
   },
   "file_extension": ".py",
   "mimetype": "text/x-python",
   "name": "python",
   "nbconvert_exporter": "python",
   "pygments_lexer": "ipython3",
   "version": "3.10.9"
  },
  "orig_nbformat": 4
 },
 "nbformat": 4,
 "nbformat_minor": 2
}
